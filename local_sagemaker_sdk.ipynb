{
 "cells": [
  {
   "cell_type": "markdown",
   "metadata": {},
   "source": [
    "#### Testing Local Sagemaker SDK"
   ]
  },
  {
   "cell_type": "code",
   "execution_count": null,
   "metadata": {},
   "outputs": [],
   "source": [
    "import sagemaker\n",
    "from sagemaker.local import LocalSession\n",
    "from sagemaker.model import Model\n",
    "from sagemaker.predictor import Predictor\n",
    "import json, cv2\n",
    "\n",
    "DUMMY_IAM_ROLE = 'arn:aws:iam::111111111111:role/service-role/AmazonSageMaker-ExecutionRole-20200101T000001'\n",
    "\n",
    "YOUR_BUCKET_PREFIX = 's3://<your BUCKET>/<your prefixes>'"
   ]
  },
  {
   "cell_type": "code",
   "execution_count": null,
   "metadata": {},
   "outputs": [],
   "source": [
    "# It's locally but aws SDK needs a default profile setup \n",
    "# If you already have this, you can safelly ignore this step\n",
    "%env AWS_DEFAULT_REGION=<your region>\n",
    "%env AWS_DEFAULT_PROFILE=<your profile>"
   ]
  },
  {
   "cell_type": "code",
   "execution_count": null,
   "metadata": {},
   "outputs": [],
   "source": [
    "sagemaker_session = LocalSession()\n",
    "sagemaker_session.config = {'local': {'local_code': True}}"
   ]
  },
  {
   "cell_type": "code",
   "execution_count": null,
   "metadata": {},
   "outputs": [],
   "source": [
    "### It 's necessary to package model into a tar.gz\n",
    "!rm model.tar.gz\n",
    "!cd model && tar -cvzf ../model.tar.gz Detic_LCOCOI21k_CLIP_SwinB_896b32_4x_ft4x_max-size.pth && cd .."
   ]
  },
  {
   "cell_type": "code",
   "execution_count": null,
   "metadata": {},
   "outputs": [],
   "source": [
    "## Upload to S3\n",
    "local_model = 'model.tar.gz'\n",
    "s3uri = sagemaker.s3.S3Uploader.upload(local_model, YOUR_BUCKET_PREFIX)\n",
    "s3uri"
   ]
  },
  {
   "cell_type": "code",
   "execution_count": null,
   "metadata": {},
   "outputs": [],
   "source": [
    "role = DUMMY_IAM_ROLE\n",
    "model_dir = s3uri\n",
    "image = '<your image hosted on ECR repository>'"
   ]
  },
  {
   "cell_type": "code",
   "execution_count": null,
   "metadata": {},
   "outputs": [],
   "source": [
    "def predict_wrapper(endpoint, session):\n",
    "    return Predictor(endpoint, session)\n",
    "\n",
    "model = Model(\n",
    "    image_uri=image,\n",
    "    role=role,\n",
    "    model_data=model_dir,\n",
    "    sagemaker_session=sagemaker_session,\n",
    "    predictor_cls=predict_wrapper\n",
    ")"
   ]
  },
  {
   "cell_type": "code",
   "execution_count": null,
   "metadata": {},
   "outputs": [],
   "source": [
    "from sagemaker.predictor import json_serializer\n",
    "\n",
    "print('Deploying endpoint in local mode')\n",
    "print('Note: if launching for the first time in local mode, container image download might take a few minutes to complete.')\n",
    "predictor = model.deploy(\n",
    "    initial_instance_count=1,\n",
    "    instance_type='local',\n",
    "    serializer=json_serializer\n",
    ")"
   ]
  },
  {
   "cell_type": "code",
   "execution_count": null,
   "metadata": {},
   "outputs": [],
   "source": [
    "print(predictor)"
   ]
  },
  {
   "cell_type": "code",
   "execution_count": null,
   "metadata": {},
   "outputs": [],
   "source": [
    "from matplotlib import pyplot as plt\n",
    "\n",
    "import cv2\n",
    "#import requests\n",
    "\n",
    "from PIL import Image\n",
    "import json\n",
    "import base64\n",
    "from io import BytesIO"
   ]
  },
  {
   "cell_type": "code",
   "execution_count": null,
   "metadata": {},
   "outputs": [],
   "source": [
    "im = cv2.imread(\"./desk.jpg\")\n",
    "plt.figure(figsize = (60,20))\n",
    "plt.imshow(im)\n",
    "plt.show()"
   ]
  },
  {
   "cell_type": "code",
   "execution_count": null,
   "metadata": {},
   "outputs": [],
   "source": [
    "# Prepare Image to send\n",
    "img = Image.open(\"desk.jpg\")\n",
    "\n",
    "#Convert Pillow Image to bytes and then to base64\n",
    "buffered = BytesIO()\n",
    "img.save(buffered, format=\"JPEG\")\n",
    "img_byte = buffered.getvalue() # bytes\n",
    "img_base64 = base64.b64encode(img_byte) #Base64-encoded bytes * not str\n",
    "\n",
    "#It's still bytes so json.Convert to str to dumps(Because the json element does not support bytes type)\n",
    "img_str = img_base64.decode('utf-8') # str\n",
    "\n",
    "files = json.dumps({\n",
    "    \"labels\":\"cup,mouse\", #change to labels that will be detected\n",
    "    \"img\":img_str\n",
    "})"
   ]
  },
  {
   "cell_type": "code",
   "execution_count": null,
   "metadata": {},
   "outputs": [],
   "source": [
    "result = predictor.predict(files)"
   ]
  },
  {
   "cell_type": "code",
   "execution_count": null,
   "metadata": {},
   "outputs": [],
   "source": [
    "# Detectron2 to load response\n",
    "from detectron2.utils.visualizer import Visualizer\n",
    "from detectron2.data import MetadataCatalog\n",
    "import jsonpickle\n",
    "\n",
    "metadata = MetadataCatalog.get(\"__unused\")"
   ]
  },
  {
   "cell_type": "code",
   "execution_count": null,
   "metadata": {},
   "outputs": [],
   "source": [
    "\n",
    "frame = jsonpickle.decode(result)\n",
    "\n",
    "v = Visualizer(im[:, :, ::-1], metadata)\n",
    "out = v.draw_instance_predictions(frame[\"instances\"].to(\"cpu\"))\n",
    "plt.figure(figsize = (60,20))\n",
    "plt.imshow(out.get_image())\n",
    "plt.show()"
   ]
  },
  {
   "cell_type": "code",
   "execution_count": null,
   "metadata": {},
   "outputs": [],
   "source": [
    "## Deleting \n",
    "predictor.delete_endpoint()"
   ]
  }
 ],
 "metadata": {
  "interpreter": {
   "hash": "a667341281b95407f21c4aae9c1d488b3fa194f0587f67c2c36dbfac3e08dffe"
  },
  "kernelspec": {
   "display_name": "Python 3.9.1 ('.env': venv)",
   "language": "python",
   "name": "python3"
  },
  "language_info": {
   "codemirror_mode": {
    "name": "ipython",
    "version": 3
   },
   "file_extension": ".py",
   "mimetype": "text/x-python",
   "name": "python",
   "nbconvert_exporter": "python",
   "pygments_lexer": "ipython3",
   "version": "3.9.1"
  },
  "orig_nbformat": 4
 },
 "nbformat": 4,
 "nbformat_minor": 2
}
