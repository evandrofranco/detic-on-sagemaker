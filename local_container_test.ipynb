{
 "cells": [
  {
   "cell_type": "markdown",
   "metadata": {},
   "source": [
    "#### Testing Local Container (without SM SDK)"
   ]
  },
  {
   "cell_type": "code",
   "execution_count": null,
   "metadata": {},
   "outputs": [],
   "source": [
    "from matplotlib import pyplot as plt\n",
    "\n",
    "import cv2\n",
    "import requests\n",
    "\n",
    "from PIL import Image\n",
    "import json\n",
    "import base64\n",
    "from io import BytesIO"
   ]
  },
  {
   "cell_type": "code",
   "execution_count": null,
   "metadata": {},
   "outputs": [],
   "source": [
    "im = cv2.imread(\"./desk.jpg\")\n",
    "plt.figure(figsize = (60,20))\n",
    "plt.imshow(im)\n",
    "plt.show()"
   ]
  },
  {
   "cell_type": "markdown",
   "metadata": {},
   "source": [
    "### Run Local Container\n",
    "At this point, local detic container must be running.\n",
    "If there's no container running (could be checked with `docker ps` command), just start a new one:\n",
    "\n",
    "```\n",
    "docker run -v /opt/ml/model:/opt/ml/model -p 8080:8080 --rm detic-sage-maker serve\n",
    "```"
   ]
  },
  {
   "cell_type": "code",
   "execution_count": null,
   "metadata": {},
   "outputs": [],
   "source": [
    "# Testing ping\n",
    "response = requests.get(url=\"http://127.0.0.1:8080/ping\")\n",
    "print(response)"
   ]
  },
  {
   "cell_type": "code",
   "execution_count": null,
   "metadata": {},
   "outputs": [],
   "source": [
    "# Prepare Image to send\n",
    "img = Image.open(\"desk.jpg\")\n",
    "\n",
    "#Convert Pillow Image to bytes and then to base64\n",
    "buffered = BytesIO()\n",
    "img.save(buffered, format=\"JPEG\")\n",
    "img_byte = buffered.getvalue() # bytes\n",
    "img_base64 = base64.b64encode(img_byte) #Base64-encoded bytes * not str\n",
    "\n",
    "#It's still bytes so json.Convert to str to dumps(Because the json element does not support bytes type)\n",
    "img_str = img_base64.decode('utf-8') # str\n",
    "\n",
    "files = {\n",
    "    \"labels\":\"mouse,cup\", #change to labels that will be detected\n",
    "    \"img\":img_str\n",
    "}"
   ]
  },
  {
   "cell_type": "code",
   "execution_count": null,
   "metadata": {},
   "outputs": [],
   "source": [
    "# Testing inference on model\n",
    "response = requests.post(url=\"http://127.0.0.1:8080/invocations\",json=json.dumps(files))\n",
    "\n",
    "print(response)"
   ]
  },
  {
   "cell_type": "code",
   "execution_count": null,
   "metadata": {},
   "outputs": [],
   "source": [
    "# Detectron2 to load response\n",
    "from detectron2.utils.visualizer import Visualizer\n",
    "from detectron2.data import MetadataCatalog\n",
    "import jsonpickle\n",
    "\n",
    "metadata = MetadataCatalog.get(\"__unused\")"
   ]
  },
  {
   "cell_type": "code",
   "execution_count": null,
   "metadata": {},
   "outputs": [],
   "source": [
    "frame = jsonpickle.decode(response.text)\n",
    "\n",
    "v = Visualizer(im[:, :, ::-1], metadata)\n",
    "out = v.draw_instance_predictions(frame[\"instances\"].to(\"cpu\"))\n",
    "plt.figure(figsize = (60,20))\n",
    "plt.imshow(out.get_image())\n",
    "plt.show()"
   ]
  }
 ],
 "metadata": {
  "interpreter": {
   "hash": "a667341281b95407f21c4aae9c1d488b3fa194f0587f67c2c36dbfac3e08dffe"
  },
  "kernelspec": {
   "display_name": "Python 3.9.1 ('.env': venv)",
   "language": "python",
   "name": "python3"
  },
  "language_info": {
   "codemirror_mode": {
    "name": "ipython",
    "version": 3
   },
   "file_extension": ".py",
   "mimetype": "text/x-python",
   "name": "python",
   "nbconvert_exporter": "python",
   "pygments_lexer": "ipython3",
   "version": "3.9.1"
  },
  "orig_nbformat": 4
 },
 "nbformat": 4,
 "nbformat_minor": 2
}
